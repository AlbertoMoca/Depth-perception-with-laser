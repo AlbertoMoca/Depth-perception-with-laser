{
 "cells": [
  {
   "cell_type": "code",
   "execution_count": 1,
   "id": "1fdca0e5-de11-4752-9535-36b5cf0db115",
   "metadata": {},
   "outputs": [],
   "source": [
    "%matplotlib widget"
   ]
  },
  {
   "cell_type": "code",
   "execution_count": 2,
   "id": "fc72cc45-738a-4a09-97e4-86089783186a",
   "metadata": {},
   "outputs": [],
   "source": [
    "import pickle\n",
    "import numpy as np \n",
    "import matplotlib.pyplot as plt\n",
    "from scipy import interpolate"
   ]
  },
  {
   "cell_type": "code",
   "execution_count": 3,
   "id": "2ce69d74-cf1d-4198-a025-2ce484fe2ee0",
   "metadata": {},
   "outputs": [],
   "source": [
    "with open('data.p', 'rb') as fp:\n",
    "    data = pickle.load(fp)"
   ]
  },
  {
   "cell_type": "code",
   "execution_count": 4,
   "id": "4e694428-f2bb-4ab2-aad0-795f7e431a4c",
   "metadata": {},
   "outputs": [],
   "source": [
    "deep = np.array(list(data.keys()))"
   ]
  },
  {
   "cell_type": "code",
   "execution_count": 5,
   "id": "90ea1e19-84c3-4b71-87d7-f39066ad30ff",
   "metadata": {},
   "outputs": [],
   "source": [
    "pixels = []\n",
    "for i in data:\n",
    "    sample = data[i]\n",
    "    sample = np.delete(sample, np.argmin(sample[:,1]), 0)\n",
    "    origin = sample[np.argmax(sample[:,0])]\n",
    "    sample = np.delete(sample, np.argmax(sample[:,0]), 0)\n",
    "    pixels.append(np.sum((sample-origin)**2,axis=-1)**.5)"
   ]
  },
  {
   "cell_type": "code",
   "execution_count": 6,
   "id": "6eab5bdf-134a-4553-8d58-2e9aa2b50e15",
   "metadata": {},
   "outputs": [],
   "source": [
    "x,y = (25.5,27)\n",
    "dist = []\n",
    "for i in range(1,10):\n",
    "    dist.append(((i*x/6)**2+(i*y/6)**2)**.5)"
   ]
  },
  {
   "cell_type": "code",
   "execution_count": 7,
   "id": "11a3f1ee-a50a-4371-8460-936c2e45e02d",
   "metadata": {},
   "outputs": [],
   "source": [
    "dist = np.array(dist[::-1])"
   ]
  },
  {
   "cell_type": "code",
   "execution_count": 8,
   "id": "20c852fb-0d3b-419e-9de2-048ee69d6091",
   "metadata": {},
   "outputs": [],
   "source": [
    "pixels= np.array(pixels)"
   ]
  },
  {
   "cell_type": "code",
   "execution_count": null,
   "id": "4592b542-08a3-403e-a404-07844c4d98a3",
   "metadata": {},
   "outputs": [],
   "source": []
  },
  {
   "cell_type": "code",
   "execution_count": 10,
   "id": "adf45317-70e3-420b-964d-5c908ca4e908",
   "metadata": {},
   "outputs": [
    {
     "data": {
      "application/vnd.jupyter.widget-view+json": {
       "model_id": "addd1f31f01944a5899926914cb75cc9",
       "version_major": 2,
       "version_minor": 0
      },
      "text/plain": [
       "Canvas(toolbar=Toolbar(toolitems=[('Home', 'Reset original view', 'home', 'home'), ('Back', 'Back to previous …"
      ]
     },
     "metadata": {},
     "output_type": "display_data"
    }
   ],
   "source": [
    "\n",
    "fig, ax = plt.subplots(subplot_kw={\"projection\": \"3d\"})\n",
    "\n",
    "X = dist\n",
    "Y = deep\n",
    "X, Y = np.meshgrid(X, Y)\n",
    "\n",
    "Z = pixels\n",
    "\n",
    "# Plot the surface.\n",
    "ax.plot_surface(X, Y, Z, antialiased=True,alpha=.8)\n",
    "ax.set_xlabel(\"ancho real\")\n",
    "ax.set_ylabel(\"profundidad\")\n",
    "ax.set_zlabel(\"pixels medidos\")\n",
    "f = interpolate.interp2d(X, Y, Z, kind = 'quintic')\n",
    "#97.64656711419143, 156.72268\n",
    "p = 97.6\n",
    "#ax.scatter(np.linspace(5,50,30), p, f(np.linspace(5,50,30), p), antialiased=True,c=\"y\")\n",
    "#ax.scatter(np.linspace(5,50,30), p, f(np.linspace(5,50,30), p), antialiased=True,c=\"y\")\n"
   ]
  },
  {
   "cell_type": "code",
   "execution_count": 33,
   "id": "db249739-9ba0-4c2a-9eb1-37e14f1e7633",
   "metadata": {},
   "outputs": [
    {
     "data": {
      "text/plain": [
       "[<matplotlib.lines.Line2D at 0x7f88e8251190>]"
      ]
     },
     "execution_count": 33,
     "metadata": {},
     "output_type": "execute_result"
    },
    {
     "data": {
      "image/png": "[encoded data removed]",
      "text/plain": [
       "<Figure size 432x288 with 1 Axes>"
      ]
     },
     "metadata": {
      "needs_background": "light"
     },
     "output_type": "display_data"
    }
   ],
   "source": [
    "plt.plot(np.linspace(5,35,30),f(np.linspace(5,35,30), p))"
   ]
  },
  {
   "cell_type": "code",
   "execution_count": 10,
   "id": "e44fdc0c-a373-4b62-a6a9-133b47177457",
   "metadata": {},
   "outputs": [
    {
     "data": {
      "text/plain": [
       "array([ 5.        ,  8.33333333, 11.66666667, 15.        , 18.33333333,\n",
       "       21.66666667, 25.        , 28.33333333, 31.66666667, 35.        ])"
      ]
     },
     "execution_count": 10,
     "metadata": {},
     "output_type": "execute_result"
    }
   ],
   "source": [
    "np.linspace(5,35,10)"
   ]
  },
  {
   "cell_type": "code",
   "execution_count": 10,
   "id": "6bfb7b0d-730e-4724-92c4-c39a94aaaa14",
   "metadata": {},
   "outputs": [
    {
     "data": {
      "text/plain": [
       "25.689655172413794"
      ]
     },
     "execution_count": 10,
     "metadata": {},
     "output_type": "execute_result"
    }
   ],
   "source": [
    "profundidad, pixels = 97.64656711419143, 156.72268\n",
    "detail = 30\n",
    "np.linspace(5,35,detail)[np.argmin(np.abs(f(np.linspace(5,35,detail), profundidad) - pixels))]"
   ]
  },
  {
   "cell_type": "code",
   "execution_count": 11,
   "id": "f30f475c-38e4-40dc-8965-782d8893f6eb",
   "metadata": {
    "collapsed": true,
    "jupyter": {
     "outputs_hidden": true
    },
    "tags": []
   },
   "outputs": [
    {
     "data": {
      "text/plain": [
       "{133: array([[119, 441],\n",
       "        [121, 200],\n",
       "        [138, 419],\n",
       "        [158, 399],\n",
       "        [177, 379],\n",
       "        [200, 357],\n",
       "        [219, 339],\n",
       "        [236, 318]]),\n",
       " 120: array([[108, 187],\n",
       "        [107, 455],\n",
       "        [129, 432],\n",
       "        [151, 410],\n",
       "        [172, 388],\n",
       "        [197, 364],\n",
       "        [218, 342],\n",
       "        [237, 320]]),\n",
       " 108: array([[ 94, 171],\n",
       "        [ 93, 469],\n",
       "        [117, 444],\n",
       "        [142, 419],\n",
       "        [165, 395],\n",
       "        [192, 368],\n",
       "        [216, 344],\n",
       "        [237, 319]]),\n",
       " 100: array([[ 83, 160],\n",
       "        [ 82, 482],\n",
       "        [108, 455],\n",
       "        [134, 427],\n",
       "        [159, 401],\n",
       "        [190, 372],\n",
       "        [215, 346],\n",
       "        [238, 320]]),\n",
       " 93: array([[ 71, 146],\n",
       "        [ 71, 494],\n",
       "        [ 99, 464],\n",
       "        [127, 435],\n",
       "        [154, 407],\n",
       "        [186, 375],\n",
       "        [214, 347],\n",
       "        [238, 319]]),\n",
       " 88: array([[ 62, 137],\n",
       "        [ 62, 504],\n",
       "        [ 92, 473],\n",
       "        [122, 442],\n",
       "        [150, 412],\n",
       "        [184, 379],\n",
       "        [213, 350],\n",
       "        [239, 320]]),\n",
       " 79: array([[ 41, 114],\n",
       "        [ 43, 525],\n",
       "        [ 76, 490],\n",
       "        [109, 456],\n",
       "        [141, 423],\n",
       "        [179, 386],\n",
       "        [211, 353],\n",
       "        [240, 320]]),\n",
       " 73: array([[ 24,  97],\n",
       "        [ 26, 545],\n",
       "        [ 62, 508],\n",
       "        [ 98, 470],\n",
       "        [133, 434],\n",
       "        [174, 394],\n",
       "        [209, 358],\n",
       "        [241, 322]]),\n",
       " 68: array([[ 10,  81],\n",
       "        [ 12, 561],\n",
       "        [ 50, 521],\n",
       "        [ 89, 480],\n",
       "        [126, 442],\n",
       "        [170, 398],\n",
       "        [208, 360],\n",
       "        [241, 322]])}"
      ]
     },
     "execution_count": 11,
     "metadata": {},
     "output_type": "execute_result"
    }
   ],
   "source": [
    "data"
   ]
  },
  {
   "cell_type": "code",
   "execution_count": 12,
   "id": "f02a2a05-48ba-4cf1-8de2-1917b3e44bfa",
   "metadata": {},
   "outputs": [],
   "source": [
    "cp = data"
   ]
  },
  {
   "cell_type": "code",
   "execution_count": 13,
   "id": "81363497-e650-454d-af7d-75ceeb5961c7",
   "metadata": {},
   "outputs": [
    {
     "data": {
      "text/plain": [
       "{133: array([[119, 441],\n",
       "        [121, 200],\n",
       "        [138, 419],\n",
       "        [158, 399],\n",
       "        [177, 379],\n",
       "        [200, 357],\n",
       "        [219, 339],\n",
       "        [236, 318]]),\n",
       " 120: array([[108, 187],\n",
       "        [107, 455],\n",
       "        [129, 432],\n",
       "        [151, 410],\n",
       "        [172, 388],\n",
       "        [197, 364],\n",
       "        [218, 342],\n",
       "        [237, 320]]),\n",
       " 108: array([[ 94, 171],\n",
       "        [ 93, 469],\n",
       "        [117, 444],\n",
       "        [142, 419],\n",
       "        [165, 395],\n",
       "        [192, 368],\n",
       "        [216, 344],\n",
       "        [237, 319]]),\n",
       " 100: array([[ 83, 160],\n",
       "        [ 82, 482],\n",
       "        [108, 455],\n",
       "        [134, 427],\n",
       "        [159, 401],\n",
       "        [190, 372],\n",
       "        [215, 346],\n",
       "        [238, 320]]),\n",
       " 93: array([[ 71, 146],\n",
       "        [ 71, 494],\n",
       "        [ 99, 464],\n",
       "        [127, 435],\n",
       "        [154, 407],\n",
       "        [186, 375],\n",
       "        [214, 347],\n",
       "        [238, 319]]),\n",
       " 88: array([[ 62, 137],\n",
       "        [ 62, 504],\n",
       "        [ 92, 473],\n",
       "        [122, 442],\n",
       "        [150, 412],\n",
       "        [184, 379],\n",
       "        [213, 350],\n",
       "        [239, 320]]),\n",
       " 79: array([[ 41, 114],\n",
       "        [ 43, 525],\n",
       "        [ 76, 490],\n",
       "        [109, 456],\n",
       "        [141, 423],\n",
       "        [179, 386],\n",
       "        [211, 353],\n",
       "        [240, 320]]),\n",
       " 73: array([[ 24,  97],\n",
       "        [ 26, 545],\n",
       "        [ 62, 508],\n",
       "        [ 98, 470],\n",
       "        [133, 434],\n",
       "        [174, 394],\n",
       "        [209, 358],\n",
       "        [241, 322]]),\n",
       " 68: array([[ 10,  81],\n",
       "        [ 12, 561],\n",
       "        [ 50, 521],\n",
       "        [ 89, 480],\n",
       "        [126, 442],\n",
       "        [170, 398],\n",
       "        [208, 360],\n",
       "        [241, 322]])}"
      ]
     },
     "execution_count": 13,
     "metadata": {},
     "output_type": "execute_result"
    }
   ],
   "source": [
    "cp"
   ]
  },
  {
   "cell_type": "code",
   "execution_count": null,
   "id": "d2c9cf47-6a43-4037-8b80-45b89b690cf4",
   "metadata": {},
   "outputs": [],
   "source": []
  }
 ],
 "metadata": {
  "kernelspec": {
   "display_name": "Python 3",
   "language": "python",
   "name": "python3"
  },
  "language_info": {
   "codemirror_mode": {
    "name": "ipython",
    "version": 3
   },
   "file_extension": ".py",
   "mimetype": "text/x-python",
   "name": "python",
   "nbconvert_exporter": "python",
   "pygments_lexer": "ipython3",
   "version": "3.8.5"
  }
 },
 "nbformat": 4,
 "nbformat_minor": 5
}
