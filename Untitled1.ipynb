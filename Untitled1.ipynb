{
 "cells": [
  {
   "cell_type": "code",
   "execution_count": 15,
   "id": "6a3e723a-f001-4dee-ae3b-202379f8ad50",
   "metadata": {},
   "outputs": [],
   "source": [
    "%matplotlib widget"
   ]
  },
  {
   "cell_type": "code",
   "execution_count": 1,
   "id": "5b9d2235-b25a-4c0e-b9ca-ed6fd80e5a8d",
   "metadata": {},
   "outputs": [],
   "source": [
    "import pickle\n",
    "import numpy as np \n",
    "import matplotlib.pyplot as plt\n",
    "\n",
    "from scipy.interpolate import interp1d"
   ]
  },
  {
   "cell_type": "code",
   "execution_count": 2,
   "id": "23a89fdb-f29e-4758-b89e-46ad5c34052e",
   "metadata": {},
   "outputs": [],
   "source": [
    "with open('distance_angle_map.p', 'rb') as fp:\n",
    "    data = pickle.load(fp)"
   ]
  },
  {
   "cell_type": "code",
   "execution_count": 3,
   "id": "9057bf4f-f6a7-451b-9e88-727708607d0d",
   "metadata": {},
   "outputs": [],
   "source": [
    "dist = np.array(list(data.keys())).astype(float)\n",
    "pixels = np.array(list(data.values())).astype(float)\n",
    "\n",
    "th = np.arctan(pixels/dist)\n"
   ]
  },
  {
   "cell_type": "code",
   "execution_count": 4,
   "id": "df49b60f-af1a-4e22-ad8a-2d456b0945b7",
   "metadata": {},
   "outputs": [
    {
     "data": {
      "text/plain": [
       "<matplotlib.collections.PathCollection at 0x7f7e2442ec70>"
      ]
     },
     "execution_count": 4,
     "metadata": {},
     "output_type": "execute_result"
    },
    {
     "data": {
      "image/png": "[encoded data removed]",
      "text/plain": [
       "<Figure size 432x288 with 1 Axes>"
      ]
     },
     "metadata": {
      "needs_background": "light"
     },
     "output_type": "display_data"
    }
   ],
   "source": [
    "plt.plot(th,pixels)\n",
    "plt.scatter(th,pixels)"
   ]
  },
  {
   "cell_type": "code",
   "execution_count": null,
   "id": "94a382df-207d-49c3-b6be-cad2b51046e5",
   "metadata": {},
   "outputs": [],
   "source": []
  }
 ],
 "metadata": {
  "kernelspec": {
   "display_name": "Python 3",
   "language": "python",
   "name": "python3"
  },
  "language_info": {
   "codemirror_mode": {
    "name": "ipython",
    "version": 3
   },
   "file_extension": ".py",
   "mimetype": "text/x-python",
   "name": "python",
   "nbconvert_exporter": "python",
   "pygments_lexer": "ipython3",
   "version": "3.8.5"
  }
 },
 "nbformat": 4,
 "nbformat_minor": 5
}
